{
 "cells": [
  {
   "cell_type": "code",
   "execution_count": 1,
   "metadata": {},
   "outputs": [],
   "source": [
    "import matplotlib.pyplot as plt\n",
    "import seaborn as sns\n",
    "import pandas as pd\n",
    "from os.path import join"
   ]
  },
  {
   "cell_type": "markdown",
   "metadata": {},
   "source": [
    "Set the color palette to a colorblind-friendly palette and increase text dimensions"
   ]
  },
  {
   "cell_type": "code",
   "execution_count": null,
   "metadata": {},
   "outputs": [],
   "source": [
    "sns.set_palette(\"colorblind\", n_colors=3)\n",
    "merged_data = pd.read_excel('/path/to/DATABASE/merged_data_mean.xlsx')\n",
    "\n",
    "plt.rcParams.update({'font.size': 14, 'legend.fontsize': 12, 'axes.labelsize': 16, 'axes.titlesize': 18, 'xtick.labelsize': 14, 'ytick.labelsize': 14})\n",
    "\n",
    "save_path = '/path/to/DATABASE/boxplots/'"
   ]
  },
  {
   "cell_type": "markdown",
   "metadata": {},
   "source": [
    "Boxplot for NDI"
   ]
  },
  {
   "cell_type": "code",
   "execution_count": null,
   "metadata": {},
   "outputs": [],
   "source": [
    "data = merged_data[(merged_data['side'] == 'mean_LR') & (merged_data['measure'] == 'Bingham_NDI')]\n",
    "\n",
    "# Setting the aesthetic style of the plots\n",
    "sns.set_style(\"whitegrid\")\n",
    "\n",
    "# Creating a boxplot of mean as a function of group distinguishing between tracts\n",
    "plt.figure(figsize=(12, 8))\n",
    "sns.boxplot(x=\"group\", y=\"mean\", hue=\"tract\", data=data)\n",
    "plt.xlabel('')\n",
    "plt.ylabel('NDI')\n",
    "plt.legend(title='Subdivision', bbox_to_anchor=(1.05, 1), loc='upper left')\n",
    "plt.xticks(rotation=45)\n",
    "plt.tight_layout()\n",
    "\n",
    "# Save the plot to a file \n",
    "plt.savefig(join(save_path,'boxplot_NDI.png'))\n"
   ]
  },
  {
   "cell_type": "markdown",
   "metadata": {},
   "source": [
    "Boxplot for ODI"
   ]
  },
  {
   "cell_type": "code",
   "execution_count": null,
   "metadata": {},
   "outputs": [],
   "source": [
    "data = merged_data[(merged_data['side'] == 'mean_LR') & (merged_data['measure'] == 'SD2BinghamDistributed_1_SD2Bingham_1_odi')]\n",
    "\n",
    "# Setting the aesthetic style of the plots\n",
    "sns.set_style(\"whitegrid\")\n",
    "\n",
    "# Creating a boxplot of mean as a function of group distinguishing between tracts\n",
    "plt.figure(figsize=(12, 8))\n",
    "sns.boxplot(x=\"group\", y=\"mean\", hue=\"tract\", data=data)\n",
    "plt.xlabel('')\n",
    "plt.ylabel('ODI')\n",
    "plt.legend(title='Subdivision', bbox_to_anchor=(1.05, 1), loc='upper left')\n",
    "plt.xticks(rotation=45)\n",
    "plt.tight_layout()\n",
    "\n",
    "# Save the plot to a file \n",
    "plt.savefig(join(save_path,'boxplot_ODI.png'))\n"
   ]
  },
  {
   "cell_type": "markdown",
   "metadata": {},
   "source": [
    "Boxplot for $\\beta$-fraction"
   ]
  },
  {
   "cell_type": "code",
   "execution_count": null,
   "metadata": {},
   "outputs": [],
   "source": [
    "data = merged_data[(merged_data['side'] == 'mean_LR') & (merged_data['measure'] == 'SD2BinghamDistributed_1_SD2Bingham_1_beta_fraction')]\n",
    "\n",
    "# Setting the aesthetic style of the plots\n",
    "sns.set_style(\"whitegrid\")\n",
    "\n",
    "# Creating a boxplot of mean as a function of group distinguishing between tracts\n",
    "plt.figure(figsize=(12, 8))\n",
    "sns.boxplot(x=\"group\", y=\"mean\", hue=\"tract\", data=data)\n",
    "plt.xlabel('')\n",
    "plt.ylabel('\\u03B2-fraction')\n",
    "plt.legend(title='Subdivision', bbox_to_anchor=(1.05, 1), loc='upper left')\n",
    "plt.xticks(rotation=45)\n",
    "plt.tight_layout()\n",
    "\n",
    "# Save the plot to a file \n",
    "plt.savefig(join(save_path,'boxplot_beta_fraction.png'))\n"
   ]
  },
  {
   "cell_type": "markdown",
   "metadata": {},
   "source": [
    "Boxplot for Partial Volume 0"
   ]
  },
  {
   "cell_type": "code",
   "execution_count": null,
   "metadata": {},
   "outputs": [],
   "source": [
    "data = merged_data[(merged_data['side'] == 'mean_LR') & (merged_data['measure'] == 'partial_volume_0')]\n",
    "\n",
    "# Setting the aesthetic style of the plots\n",
    "sns.set_style(\"whitegrid\")\n",
    "\n",
    "# Creating a boxplot of mean as a function of group distinguishing between tracts\n",
    "plt.figure(figsize=(12, 8))\n",
    "sns.boxplot(x=\"group\", y=\"mean\", hue=\"tract\", data=data)\n",
    "plt.xlabel('')\n",
    "plt.ylabel('CSF volume fraction')\n",
    "plt.legend(title='Subdivision', bbox_to_anchor=(1.05, 1), loc='upper left')\n",
    "plt.xticks(rotation=45)\n",
    "plt.tight_layout()\n",
    "\n",
    "# Save the plot to a file \n",
    "plt.savefig(join(save_path,'boxplot_volume_0.png'))\n"
   ]
  },
  {
   "cell_type": "markdown",
   "metadata": {},
   "source": [
    "Boxplot for Partial Volume 1"
   ]
  },
  {
   "cell_type": "code",
   "execution_count": null,
   "metadata": {},
   "outputs": [],
   "source": [
    "data = merged_data[(merged_data['side'] == 'mean_LR') & (merged_data['measure'] == 'partial_volume_1')]\n",
    "\n",
    "# Setting the aesthetic style of the plots\n",
    "sns.set_style(\"whitegrid\")\n",
    "\n",
    "# Creating a boxplot of mean as a function of group distinguishing between tracts\n",
    "plt.figure(figsize=(12, 8))\n",
    "sns.boxplot(x=\"group\", y=\"mean\", hue=\"tract\", data=data)\n",
    "plt.xlabel('')\n",
    "plt.ylabel('Tissue volume fraction')\n",
    "plt.legend(title='Subdivision', bbox_to_anchor=(1.05, 1), loc='upper left')\n",
    "plt.xticks(rotation=45)\n",
    "plt.tight_layout()\n",
    "\n",
    "# Save the plot to a file \n",
    "plt.savefig(join(save_path,'boxplot_volume_1.png'))\n"
   ]
  },
  {
   "cell_type": "markdown",
   "metadata": {},
   "source": [
    "Boxplot for intra-neurite v.f."
   ]
  },
  {
   "cell_type": "code",
   "execution_count": null,
   "metadata": {},
   "outputs": [],
   "source": [
    "data = merged_data[(merged_data['side'] == 'mean_LR') & (merged_data['measure'] == 'SD2BinghamDistributed_1_partial_volume_0')]\n",
    "\n",
    "# Setting the aesthetic style of the plots\n",
    "sns.set_style(\"whitegrid\")\n",
    "\n",
    "# Creating a boxplot of mean as a function of group distinguishing between tracts\n",
    "plt.figure(figsize=(12, 8))\n",
    "sns.boxplot(x=\"group\", y=\"mean\", hue=\"tract\", data=data)\n",
    "plt.xlabel('')\n",
    "plt.ylabel('Intra-neurite volume fraction')\n",
    "plt.legend(title='Subdivision', bbox_to_anchor=(1.05, 1), loc='upper left')\n",
    "plt.xticks(rotation=45)\n",
    "plt.tight_layout()\n",
    "\n",
    "# Save the plot to a file \n",
    "plt.savefig(join(save_path,'boxplot_intra_neurite.png'))\n"
   ]
  }
 ],
 "metadata": {
  "kernelspec": {
   "display_name": "Python 3",
   "language": "python",
   "name": "python3"
  },
  "language_info": {
   "codemirror_mode": {
    "name": "ipython",
    "version": 3
   },
   "file_extension": ".py",
   "mimetype": "text/x-python",
   "name": "python",
   "nbconvert_exporter": "python",
   "pygments_lexer": "ipython3",
   "version": "3.11.9"
  }
 },
 "nbformat": 4,
 "nbformat_minor": 2
}
