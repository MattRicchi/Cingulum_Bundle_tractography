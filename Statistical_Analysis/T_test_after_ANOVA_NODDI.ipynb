{
 "cells": [
  {
   "cell_type": "markdown",
   "metadata": {},
   "source": [
    "Imports"
   ]
  },
  {
   "cell_type": "code",
   "execution_count": null,
   "metadata": {},
   "outputs": [],
   "source": [
    "import pandas as pd\n",
    "import numpy as np\n",
    "from os.path import join\n",
    "from itertools import combinations\n",
    "from statsmodels.stats.multitest import multipletests\n",
    "from scipy.stats import ttest_ind\n",
    "\n",
    "database_path = '/path/to/DATABASE/'"
   ]
  },
  {
   "cell_type": "markdown",
   "metadata": {},
   "source": [
    "Load the CSV data into DataFrames"
   ]
  },
  {
   "cell_type": "code",
   "execution_count": null,
   "metadata": {},
   "outputs": [],
   "source": [
    "ad_df = pd.read_excel(join(database_path, 'AD/global_tract_metrics_mean.xlsx'))\n",
    "mci_df = pd.read_excel(join(database_path, 'MCI/global_tract_metrics_mean.xlsx'))\n",
    "cn_df = pd.read_excel(join(database_path, 'CN/global_tract_metrics_mean.xlsx'))\n",
    "\n",
    "measures = ['SD2BinghamDistributed_1_SD2Bingham_1_odi', 'Bingham_NDI', 'SD2BinghamDistributed_1_SD2Bingham_1_beta_fraction', 'partial_volume_0', 'partial_volume_1', 'SD2BinghamDistributed_1_partial_volume_0']\n",
    "tracts = ['Subgenual', 'Retrosplenial', 'Parahippocampal']\n",
    "\n",
    "tract_combinations = list(combinations(tracts, 2))\n",
    "print(tract_combinations)"
   ]
  },
  {
   "cell_type": "markdown",
   "metadata": {},
   "source": [
    "Define the t_test function"
   ]
  },
  {
   "cell_type": "code",
   "execution_count": null,
   "metadata": {},
   "outputs": [],
   "source": [
    "def run_t_test(df1, df2, measure, tract, group1_name, group2_name):\n",
    "\n",
    "    group1_data = np.array(df1[(df1['measure'] == measure) & (df1['tract'] == tract) & (df1['side'] == 'mean_LR') & (df1['mean'] != 0.0)]['mean'])\n",
    "    group2_data = np.array(df2[(df2['measure'] == measure) & (df2['tract'] == tract) & (df2['side'] == 'mean_LR') & (df2['mean'] != 0.0)]['mean'])\n",
    "\n",
    "    t_statistic, p_value = ttest_ind(group1_data, group2_data)\n",
    "\n",
    "    return pd.Series([f'{group1_name} vs {group2_name}', measure, f'{tract}', t_statistic, p_value],\n",
    "                     index=['Comparison', 'Measure', 'Tract_Side', 'T-statistic', 'P-value'])"
   ]
  },
  {
   "cell_type": "markdown",
   "metadata": {},
   "source": [
    "Perform a t test and p-value correction to compare tracts within each group for each measurement separately"
   ]
  },
  {
   "cell_type": "code",
   "execution_count": null,
   "metadata": {},
   "outputs": [],
   "source": [
    "for measure in measures:\n",
    "    # Define empty DataFrame for final results\n",
    "    results_df_tracts = pd.DataFrame(columns=['Comparison', 'Measure', 'Group', 'T-statistic', 'P-value'])\n",
    "\n",
    "    # Compare tracts within each group\n",
    "    for tract1, tract2 in tract_combinations:\n",
    "            for group_name, group_df in [('CN', cn_df), ('AD', ad_df), ('MCI', mci_df)]:\n",
    "                group1_data = np.array(group_df[(group_df['measure'] == measure) & (group_df['tract'] == tract1) & (group_df['side'] == 'mean_LR') & (group_df['mean'] != 0.0)]['mean'])\n",
    "                group2_data = np.array(group_df[(group_df['measure'] == measure) & (group_df['tract'] == tract2) & (group_df['side'] == 'mean_LR') & (group_df['mean'] != 0.0)]['mean'])\n",
    "                t_statistic, p_value = ttest_ind(group1_data, group2_data)\n",
    "\n",
    "                # Update the results DataFrame with tract comparison results\n",
    "                results_df_tracts = results_df_tracts._append(\n",
    "                    pd.Series([f'{tract1} vs {tract2}', measure, group_name, t_statistic, p_value],\n",
    "                              index=['Comparison', 'Measure', 'Group', 'T-statistic', 'P-value']), ignore_index = True)\n",
    "                \n",
    "    # Extract p-values for FDR correction\n",
    "    p_values_all = results_df_tracts['P-value']\n",
    "\n",
    "    # Perform FDR correction for all comparisons\n",
    "    reject_all, corrected_p_values_all, _, _ = multipletests(p_values_all, alpha=0.05, method='fdr_bh')\n",
    "\n",
    "    # Update the results DataFrame with corrected p-values for all comparisons\n",
    "    results_df_tracts['Corrected p-value'] = corrected_p_values_all\n",
    "    results_df_tracts['Reject Null Hypothesis'] = reject_all\n",
    "    print(results_df_tracts)\n",
    "\n",
    "    # Save the results to an Excel file\n",
    "    results_df_tracts.to_excel(join(database_path, f'/t_test_results/Bingham_NODDI_{measure}_Ttest_TRACTS.xlsx'), index=False)"
   ]
  },
  {
   "cell_type": "markdown",
   "metadata": {},
   "source": [
    "Perform a t test and p-value correction to compare groups within tracts for NDI"
   ]
  },
  {
   "cell_type": "code",
   "execution_count": null,
   "metadata": {},
   "outputs": [],
   "source": [
    "measures = ['Bingham_NDI']\n",
    "\n",
    "for measure in measures:\n",
    "    # Define empty DataFrame for final results\n",
    "    results_df = pd.DataFrame(columns=['Comparison', 'Measure', 'Tract_Side', 'T-statistic', 'P-value'])\n",
    "\n",
    "    group_combinations = list(combinations([('CN', cn_df), ('AD', ad_df), ('MCI', mci_df)], 2))\n",
    "\n",
    "    # Compare the groups\n",
    "    for (group1_name, group1_df), (group2_name, group2_df) in group_combinations:\n",
    "        for tract in tracts:\n",
    "            results_df = results_df._append(\n",
    "                run_t_test(group1_df, group2_df, measure, tract, group1_name, group2_name), ignore_index=True)\n",
    "            \n",
    "    # Extract p-values for FDR correction\n",
    "    p_values_all = results_df['P-value']\n",
    "\n",
    "    # Perform FDR correction for all comparisons\n",
    "    reject_all, corrected_p_values_all, _, _ = multipletests(p_values_all, alpha=0.05, method='fdr_bh')\n",
    "\n",
    "    # Update the results DataFrame with corrected p-values for all comparisons\n",
    "    results_df['Corrected p-value'] = corrected_p_values_all\n",
    "    results_df['Reject Null Hypothesis'] = reject_all\n",
    "    print(results_df)\n",
    "\n",
    "    # Save the results to an Excel file\n",
    "    results_df.to_excel(join(database_path, f'/t_test_results/Bingham_NODDI_{measure}_Ttest_GROUPS.xlsx'), index=False)"
   ]
  }
 ],
 "metadata": {
  "kernelspec": {
   "display_name": "Python 3",
   "language": "python",
   "name": "python3"
  },
  "language_info": {
   "codemirror_mode": {
    "name": "ipython",
    "version": 3
   },
   "file_extension": ".py",
   "mimetype": "text/x-python",
   "name": "python",
   "nbconvert_exporter": "python",
   "pygments_lexer": "ipython3",
   "version": "3.11.9"
  }
 },
 "nbformat": 4,
 "nbformat_minor": 2
}
