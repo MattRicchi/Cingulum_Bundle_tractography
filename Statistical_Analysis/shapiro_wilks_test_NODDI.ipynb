{
 "cells": [
  {
   "cell_type": "markdown",
   "metadata": {},
   "source": [
    "Perform normality test for NODDI metrics"
   ]
  },
  {
   "cell_type": "code",
   "execution_count": null,
   "metadata": {},
   "outputs": [],
   "source": [
    "import os\n",
    "import pandas as pd\n",
    "import numpy as np\n",
    "from scipy import stats\n",
    "from os.path import join\n",
    "\n",
    "database_path = '/path/to/DATABASE/'\n",
    "\n",
    "# Function to extract data for a specific combination of measure, tract, and side\n",
    "def extract_data(data, measure, tract, side):\n",
    "    subset = data[(data['measure'] == measure) & (data['tract'] == tract) & (data['side'] == side)]['mean']\n",
    "    \n",
    "    # Exclude 0.0 values\n",
    "    subset = subset[subset != 0.0]\n",
    "    \n",
    "    return np.array(subset)\n",
    "\n",
    "metrics = ['SD2BinghamDistributed_1_SD2Bingham_1_odi', 'Bingham_NDI', \n",
    "            'SD2BinghamDistributed_1_SD2Bingham_1_beta_fraction', 'partial_volume_0', 'partial_volume_1', \n",
    "            'SD2BinghamDistributed_1_partial_volume_0']\n",
    "tracts = ['subgenual', 'retrosplenial', 'parahippocampal']\n",
    "sides = ['l', 'r']"
   ]
  },
  {
   "cell_type": "markdown",
   "metadata": {},
   "source": [
    "Perform shapiro Wilks test for normality for AD"
   ]
  },
  {
   "cell_type": "code",
   "execution_count": null,
   "metadata": {},
   "outputs": [],
   "source": [
    "# Load the global CSV file into a DataFrame\n",
    "df = pd.read_csv(join(database_path,'/AD/global_tract_metrics.csv'))\n",
    "\n",
    "# Iterate over metrics, tracts, and sides\n",
    "print('--------------------------------')\n",
    "print('---------- AD results ----------')\n",
    "print('--------------------------------')\n",
    "for metric in metrics:\n",
    "    for tract in tracts:\n",
    "        for side in sides:\n",
    "            # Extract data for AD patients\n",
    "            data = extract_data(df, metric, tract.capitalize(), side.upper())\n",
    "            \n",
    "            # Perform the Shapiro-Wilks test\n",
    "            res = stats.shapiro(data)\n",
    "\n",
    "            # Print the results\n",
    "            print(f'Shapiro-Wilk test for {metric} in {tract.capitalize()}_{side.upper()}: p-value={res.pvalue}')\n"
   ]
  },
  {
   "cell_type": "markdown",
   "metadata": {},
   "source": [
    "Perform shapiro Wilks test for normality for CN"
   ]
  },
  {
   "cell_type": "code",
   "execution_count": null,
   "metadata": {},
   "outputs": [],
   "source": [
    "# Load the global CSV file into a DataFrame\n",
    "df = pd.read_csv(join(database_path,'/CN/global_tract_metrics.csv'))\n",
    "\n",
    "# Iterate over metrics, tracts, and sides\n",
    "print('--------------------------------')\n",
    "print('---------- CN results ----------')\n",
    "print('--------------------------------')\n",
    "for metric in metrics:\n",
    "    for tract in tracts:\n",
    "        for side in sides:\n",
    "            # Extract data for CN patients\n",
    "            data = extract_data(df, metric, tract.capitalize(), side.upper())\n",
    "            \n",
    "            # Perform the Shapiro-Wilks test\n",
    "            res = stats.shapiro(data)\n",
    "\n",
    "            # Print the results\n",
    "            print(f'Shapiro-Wilk test for {metric} in {tract.capitalize()}_{side.upper()}: p-value={res.pvalue}')\n"
   ]
  },
  {
   "cell_type": "markdown",
   "metadata": {},
   "source": [
    "Perform shapiro Wilks test for normality for MCI"
   ]
  },
  {
   "cell_type": "code",
   "execution_count": null,
   "metadata": {},
   "outputs": [],
   "source": [
    "# Load the global CSV file into a DataFrame\n",
    "df = pd.read_csv(join(database_path,'/MCI/global_tract_metrics.csv'))\n",
    "\n",
    "# Iterate over metrics, tracts, and sides\n",
    "print('--------------------------------')\n",
    "print('---------- MCI results ---------')\n",
    "print('--------------------------------')\n",
    "for metric in metrics:\n",
    "    for tract in tracts:\n",
    "        for side in sides:\n",
    "            # Extract data for MCI patients\n",
    "            data = extract_data(df, metric, tract.capitalize(), side.upper())\n",
    "            \n",
    "            # Perform the Shapiro-Wilks test\n",
    "            res = stats.shapiro(data)\n",
    "\n",
    "            # Print the results\n",
    "            print(f'Shapiro-Wilk test for {metric} in {tract.capitalize()}_{side.upper()}: p-value={res.pvalue}')\n"
   ]
  }
 ],
 "metadata": {
  "kernelspec": {
   "display_name": "Python 3",
   "language": "python",
   "name": "python3"
  },
  "language_info": {
   "codemirror_mode": {
    "name": "ipython",
    "version": 3
   },
   "file_extension": ".py",
   "mimetype": "text/x-python",
   "name": "python",
   "nbconvert_exporter": "python",
   "pygments_lexer": "ipython3",
   "version": "3.11.9"
  }
 },
 "nbformat": 4,
 "nbformat_minor": 2
}
